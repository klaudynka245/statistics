{
 "cells": [
  {
   "cell_type": "code",
   "execution_count": 1,
   "id": "beb4f77d",
   "metadata": {},
   "outputs": [],
   "source": [
    "import matplotlib.pyplot as plt\n",
    "import numpy as np\n",
    "from statsmodels.distributions.empirical_distribution import ECDF\n",
    "from scipy.stats import norm, lognorm\n",
    "from scipy.stats import poisson, pareto, burr, burr12, pearsonr, gamma\n",
    "import seaborn as sns\n",
    "import random\n",
    "import pandas as pd\n",
    "import statistics\n",
    "import csv\n",
    "from statistics import geometric_mean, harmonic_mean"
   ]
  },
  {
   "cell_type": "markdown",
   "id": "c1fe0160",
   "metadata": {},
   "source": [
    "### Ogólny opis"
   ]
  },
  {
   "cell_type": "markdown",
   "id": "2cf71649",
   "metadata": {},
   "source": [
    "Dane pochodzą ze strony finance.yahoo.com, Y - kurs euro przez 5 lat, X - kurs PLN przez 5 lat ( 17.04.2017 - 17.04.2022)"
   ]
  },
  {
   "cell_type": "code",
   "execution_count": 2,
   "id": "52477d1c",
   "metadata": {},
   "outputs": [],
   "source": [
    "Y = pd.read_csv ('EURO.csv')\n",
    "X = pd.read_csv('PLN.csv')"
   ]
  },
  {
   "cell_type": "code",
   "execution_count": 3,
   "id": "57356ff4",
   "metadata": {},
   "outputs": [],
   "source": [
    "def ecdf(xdata):\n",
    "    xdataecdf = np.sort(xdata)\n",
    "    ydataecdf = np.arange(1, len(xdata) + 1) / len(xdata)\n",
    "    return xdataecdf, ydataecdf"
   ]
  },
  {
   "cell_type": "code",
   "execution_count": 4,
   "id": "17d996bd",
   "metadata": {},
   "outputs": [],
   "source": [
    "def cor_pearson(X,Y):\n",
    "        S = np.std(X)*np.std(Y)\n",
    "        su = 0\n",
    "        for i in range(len(X)):\n",
    "            if X[i] == 'null' or Y[i] == 'null':\n",
    "                pass\n",
    "            else:\n",
    "                su +=  X[i]*Y[i]\n",
    "        av_X = np.sum(X)/len(X)\n",
    "        av_Y = np.sum(Y)/len(Y)\n",
    "        res = (su-len(X)*av_X*av_Y)/((len(X))*S)\n",
    "        return res"
   ]
  },
  {
   "cell_type": "code",
   "execution_count": 5,
   "id": "e816dfae",
   "metadata": {},
   "outputs": [],
   "source": [
    "x = X['Open']\n",
    "y = Y['Open']"
   ]
  },
  {
   "cell_type": "code",
   "execution_count": 6,
   "id": "02b0b567",
   "metadata": {},
   "outputs": [
    {
     "data": {
      "text/plain": [
       "-0.7364304515082545"
      ]
     },
     "execution_count": 6,
     "metadata": {},
     "output_type": "execute_result"
    }
   ],
   "source": [
    "cor_pearson(x,y)"
   ]
  },
  {
   "cell_type": "code",
   "execution_count": 7,
   "id": "f4b28c71",
   "metadata": {},
   "outputs": [
    {
     "data": {
      "text/plain": [
       "(-0.7364304515089344, 4.64289229370096e-223)"
      ]
     },
     "execution_count": 7,
     "metadata": {},
     "output_type": "execute_result"
    }
   ],
   "source": [
    "pearsonr(x,y)"
   ]
  },
  {
   "cell_type": "markdown",
   "id": "2bf27143",
   "metadata": {},
   "source": [
    "### Statystyki "
   ]
  },
  {
   "cell_type": "code",
   "execution_count": 8,
   "id": "27203a87",
   "metadata": {},
   "outputs": [],
   "source": [
    "def charact(X):\n",
    "    mediana = statistics.median(X)\n",
    "    q25, q75 = X.quantile([0.25,0.75])\n",
    "    rozst_mkw = q75 - q25\n",
    "    proba = X\n",
    "    xmin, xmax = min(proba), max(proba)\n",
    "    rozst = xmax - xmin\n",
    "    wariancja = statistics.variance(X)\n",
    "    odchylenie = statistics.stdev(X)\n",
    "    wspl = odchylenie/proba.mean() * 100\n",
    "    print('Mediana: %s'%mediana)\n",
    "    print('Kwartyle: %s, %s'%(q25,q75))\n",
    "    print('rozstęp międzykwartylowy: %s'%rozst_mkw)\n",
    "    print('rozstęp: %s'%rozst)\n",
    "    print('wariancja:%s'%wariancja)\n",
    "    print('odchylenie:%s '%odchylenie)\n",
    "    print('współczynnik zmienności:%s'%wspl)"
   ]
  },
  {
   "cell_type": "code",
   "execution_count": 9,
   "id": "09b86548",
   "metadata": {},
   "outputs": [
    {
     "name": "stdout",
     "output_type": "stream",
     "text": [
      "Mediana: 3.79344\n",
      "Kwartyle: 3.70038, 3.9026\n",
      "rozstęp międzykwartylowy: 0.20222000000000007\n",
      "rozstęp: 1.2487600000000003\n",
      "wariancja:0.036632682961865164\n",
      "odchylenie:0.19139666392564203 \n",
      "współczynnik zmienności:5.034969577072508\n"
     ]
    }
   ],
   "source": [
    "charact(x)"
   ]
  },
  {
   "cell_type": "code",
   "execution_count": 10,
   "id": "85e09983",
   "metadata": {},
   "outputs": [
    {
     "name": "stdout",
     "output_type": "stream",
     "text": [
      "Mediana: 1.153216\n",
      "Kwartyle: 1.1207115, 1.1842519999999999\n",
      "rozstęp międzykwartylowy: 0.06354049999999978\n",
      "rozstęp: 0.19014599999999993\n",
      "wariancja:0.0017262886618688127\n",
      "odchylenie:0.041548630084141315 \n",
      "współczynnik zmienności:3.6000478265090043\n"
     ]
    }
   ],
   "source": [
    "charact(y)"
   ]
  },
  {
   "cell_type": "markdown",
   "id": "a5617551",
   "metadata": {},
   "source": [
    "### Wykresy X"
   ]
  },
  {
   "cell_type": "code",
   "execution_count": 11,
   "id": "9131a4cd",
   "metadata": {},
   "outputs": [
    {
     "data": {
      "text/plain": [
       "<matplotlib.collections.PathCollection at 0x261608e3760>"
      ]
     },
     "execution_count": 11,
     "metadata": {},
     "output_type": "execute_result"
    },
    {
     "data": {
      "image/png": "[encoded data removed]",
      "text/plain": [
       "<Figure size 432x288 with 1 Axes>"
      ]
     },
     "metadata": {
      "needs_background": "light"
     },
     "output_type": "display_data"
    }
   ],
   "source": [
    "plt.scatter(np.arange(len(x)),x)"
   ]
  },
  {
   "cell_type": "code",
   "execution_count": 12,
   "id": "b816905b",
   "metadata": {},
   "outputs": [
    {
     "data": {
      "text/plain": [
       "[<matplotlib.lines.Line2D at 0x261609d3760>]"
      ]
     },
     "execution_count": 12,
     "metadata": {},
     "output_type": "execute_result"
    },
    {
     "data": {
      "image/png": "[encoded data removed]",
      "text/plain": [
       "<Figure size 432x288 with 1 Axes>"
      ]
     },
     "metadata": {
      "needs_background": "light"
     },
     "output_type": "display_data"
    }
   ],
   "source": [
    "plt.hist(x, density = True, bins=50)\n",
    "plt.plot(np.arange(3,5,0.01),norm.pdf(np.arange(3,5,0.01),3.8,1/7))"
   ]
  },
  {
   "cell_type": "code",
   "execution_count": 13,
   "id": "443b56cb",
   "metadata": {},
   "outputs": [
    {
     "data": {
      "text/plain": [
       "<AxesSubplot:xlabel='Open', ylabel='Density'>"
      ]
     },
     "execution_count": 13,
     "metadata": {},
     "output_type": "execute_result"
    },
    {
     "data": {
      "image/png": "[encoded data removed]",
      "text/plain": [
       "<Figure size 432x288 with 1 Axes>"
      ]
     },
     "metadata": {
      "needs_background": "light"
     },
     "output_type": "display_data"
    }
   ],
   "source": [
    "sns.kdeplot(x)"
   ]
  },
  {
   "cell_type": "code",
   "execution_count": 14,
   "id": "6cb5305c",
   "metadata": {},
   "outputs": [
    {
     "data": {
      "text/plain": [
       "[<matplotlib.lines.Line2D at 0x26160b50850>]"
      ]
     },
     "execution_count": 14,
     "metadata": {},
     "output_type": "execute_result"
    },
    {
     "data": {
      "image/png": "[encoded data removed]",
      "text/plain": [
       "<Figure size 432x288 with 1 Axes>"
      ]
     },
     "metadata": {
      "needs_background": "light"
     },
     "output_type": "display_data"
    }
   ],
   "source": [
    "x_x,x_y = ecdf(x)\n",
    "plt.plot(x_x,x_y)\n",
    "plt.plot(np.arange(3,5,0.01),norm.cdf(np.arange(3,5,0.01),3.8,1/7))"
   ]
  },
  {
   "cell_type": "code",
   "execution_count": 15,
   "id": "5ef6a661",
   "metadata": {},
   "outputs": [
    {
     "data": {
      "text/plain": [
       "{'whiskers': [<matplotlib.lines.Line2D at 0x26160bc9130>,\n",
       "  <matplotlib.lines.Line2D at 0x26160bc94c0>],\n",
       " 'caps': [<matplotlib.lines.Line2D at 0x26160bc9880>,\n",
       "  <matplotlib.lines.Line2D at 0x26160bc9c10>],\n",
       " 'boxes': [<matplotlib.lines.Line2D at 0x26160bb8d60>],\n",
       " 'medians': [<matplotlib.lines.Line2D at 0x26160bc9fa0>],\n",
       " 'fliers': [<matplotlib.lines.Line2D at 0x26160bd3370>],\n",
       " 'means': []}"
      ]
     },
     "execution_count": 15,
     "metadata": {},
     "output_type": "execute_result"
    },
    {
     "data": {
      "image/png": "[encoded data removed]",
      "text/plain": [
       "<Figure size 432x288 with 1 Axes>"
      ]
     },
     "metadata": {
      "needs_background": "light"
     },
     "output_type": "display_data"
    }
   ],
   "source": [
    "plt.boxplot(x)"
   ]
  },
  {
   "cell_type": "markdown",
   "id": "6d0e5091",
   "metadata": {},
   "source": [
    "### Wykresy Y"
   ]
  },
  {
   "cell_type": "code",
   "execution_count": 16,
   "id": "1ae2ef11",
   "metadata": {},
   "outputs": [
    {
     "data": {
      "text/plain": [
       "<matplotlib.collections.PathCollection at 0x26160c1dca0>"
      ]
     },
     "execution_count": 16,
     "metadata": {},
     "output_type": "execute_result"
    },
    {
     "data": {
      "image/png": "[encoded data removed]",
      "text/plain": [
       "<Figure size 432x288 with 1 Axes>"
      ]
     },
     "metadata": {
      "needs_background": "light"
     },
     "output_type": "display_data"
    }
   ],
   "source": [
    "plt.scatter(np.arange(len(y)),y)"
   ]
  },
  {
   "cell_type": "code",
   "execution_count": 17,
   "id": "a2b33abe",
   "metadata": {},
   "outputs": [
    {
     "data": {
      "text/plain": [
       "[<matplotlib.lines.Line2D at 0x26160c90910>]"
      ]
     },
     "execution_count": 17,
     "metadata": {},
     "output_type": "execute_result"
    },
    {
     "data": {
      "image/png": "[encoded data removed]",
      "text/plain": [
       "<Figure size 432x288 with 1 Axes>"
      ]
     },
     "metadata": {
      "needs_background": "light"
     },
     "output_type": "display_data"
    }
   ],
   "source": [
    "plt.hist(y, density = True, bins=50)\n",
    "plt.plot(np.arange(1.05,1.25,0.001), [abs(31*np.sin(20*x)*np.cos(20*x)**2) for x in np.arange(1,1.2,0.001)])"
   ]
  },
  {
   "cell_type": "code",
   "execution_count": 18,
   "id": "ebd8fa0b",
   "metadata": {},
   "outputs": [
    {
     "data": {
      "text/plain": [
       "<AxesSubplot:xlabel='Open', ylabel='Density'>"
      ]
     },
     "execution_count": 18,
     "metadata": {},
     "output_type": "execute_result"
    },
    {
     "data": {
      "image/png": "[encoded data removed]",
      "text/plain": [
       "<Figure size 432x288 with 1 Axes>"
      ]
     },
     "metadata": {
      "needs_background": "light"
     },
     "output_type": "display_data"
    }
   ],
   "source": [
    "sns.kdeplot(y)"
   ]
  },
  {
   "cell_type": "code",
   "execution_count": 29,
   "id": "ba4370cf",
   "metadata": {},
   "outputs": [
    {
     "data": {
      "text/plain": [
       "[<matplotlib.lines.Line2D at 0x26160f9c340>]"
      ]
     },
     "execution_count": 29,
     "metadata": {},
     "output_type": "execute_result"
    },
    {
     "data": {
      "image/png": "[encoded data removed]",
      "text/plain": [
       "<Figure size 432x288 with 1 Axes>"
      ]
     },
     "metadata": {
      "needs_background": "light"
     },
     "output_type": "display_data"
    }
   ],
   "source": [
    "y_x,y_y = ecdf(y)\n",
    "plt.plot(y_x,y_y)\n",
    "#plt.plot(y_x,[-(31*np.cos(20*x)**3-31)/60 for x in y_x])"
   ]
  },
  {
   "cell_type": "code",
   "execution_count": 20,
   "id": "45890849",
   "metadata": {},
   "outputs": [
    {
     "data": {
      "text/plain": [
       "{'whiskers': [<matplotlib.lines.Line2D at 0x26160e2ebe0>,\n",
       "  <matplotlib.lines.Line2D at 0x26160e2ef70>],\n",
       " 'caps': [<matplotlib.lines.Line2D at 0x26160e40340>,\n",
       "  <matplotlib.lines.Line2D at 0x26160e406d0>],\n",
       " 'boxes': [<matplotlib.lines.Line2D at 0x26160e2e850>],\n",
       " 'medians': [<matplotlib.lines.Line2D at 0x26160e40a60>],\n",
       " 'fliers': [<matplotlib.lines.Line2D at 0x26160e40df0>],\n",
       " 'means': []}"
      ]
     },
     "execution_count": 20,
     "metadata": {},
     "output_type": "execute_result"
    },
    {
     "data": {
      "image/png": "[encoded data removed]",
      "text/plain": [
       "<Figure size 432x288 with 1 Axes>"
      ]
     },
     "metadata": {
      "needs_background": "light"
     },
     "output_type": "display_data"
    }
   ],
   "source": [
    "plt.boxplot(y)"
   ]
  },
  {
   "cell_type": "markdown",
   "id": "14d81c96",
   "metadata": {},
   "source": [
    "### Średnie"
   ]
  },
  {
   "cell_type": "code",
   "execution_count": 21,
   "id": "05ff9a5e",
   "metadata": {},
   "outputs": [],
   "source": [
    "def average(x):\n",
    "    average = []\n",
    "        #aritmetic\n",
    "    asum = 0\n",
    "    for row in x:\n",
    "        asum += row\n",
    "    aritmetic = asum/len(x)\n",
    "    average.append(aritmetic)\n",
    "    #geometric\n",
    "    l = []\n",
    "    for row in x:\n",
    "        l.append(row)\n",
    "    average.append(geometric_mean(l))\n",
    "    #harmonic\n",
    "    l = []\n",
    "    for row in x:\n",
    "        l.append(row)\n",
    "    average.append(harmonic_mean(l))\n",
    "    print('Średnia arytmetyczna: %f'%average[0])\n",
    "    print('Średnia geometryczna: %f'%average[1])\n",
    "    print('Średnia harmoniczna: %f'%average[2])\n",
    "    print('---------------------')"
   ]
  },
  {
   "cell_type": "code",
   "execution_count": 22,
   "id": "53793589",
   "metadata": {},
   "outputs": [
    {
     "name": "stdout",
     "output_type": "stream",
     "text": [
      "Średnia arytmetyczna: 3.801347\n",
      "Średnia geometryczna: 3.796549\n",
      "Średnia harmoniczna: 3.791760\n",
      "---------------------\n"
     ]
    }
   ],
   "source": [
    "average(x)"
   ]
  },
  {
   "cell_type": "code",
   "execution_count": 23,
   "id": "2dfec229",
   "metadata": {},
   "outputs": [
    {
     "name": "stdout",
     "output_type": "stream",
     "text": [
      "Średnia arytmetyczna: 1.154113\n",
      "Średnia geometryczna: 1.153368\n",
      "Średnia harmoniczna: 1.152626\n",
      "---------------------\n"
     ]
    }
   ],
   "source": [
    "average(y)"
   ]
  },
  {
   "cell_type": "code",
   "execution_count": 24,
   "id": "5783a8f5",
   "metadata": {},
   "outputs": [],
   "source": [
    "def trimwins2():\n",
    "    trimm = []\n",
    "    rows = []\n",
    "    wins = []\n",
    "    with open(\"PLN.csv\",'r') as file:\n",
    "        cs = csv.reader(file)\n",
    "        headers = next(cs)[1:]\n",
    "        for row in cs:\n",
    "            rows.append(row)\n",
    "        for i in [1,3,4]:\n",
    "            l = []\n",
    "            for row in rows:\n",
    "                l.append(float(row[i]))\n",
    "            l.sort()\n",
    "            g = []\n",
    "            for k in np.arange(1,10,1):\n",
    "                le = len(l)\n",
    "                z = le-k\n",
    "                a = k+1\n",
    "                l = l[a:z]\n",
    "                j = 1/(le-2*k)*sum(l)\n",
    "                g.append(j)\n",
    "            trimm.append(g)\n",
    "        for i in [1,3,4]:\n",
    "            l = []\n",
    "            for row in rows:\n",
    "                l.append(float(row[i]))\n",
    "            l.sort()\n",
    "            g = []\n",
    "            for k in np.arange(1,10,1):\n",
    "                le = len(l)\n",
    "                a = k+1\n",
    "                b = k+2\n",
    "                c = le-k-1\n",
    "                f = sum(l[b:c])\n",
    "                j = 1/le*(a*l[k+1]+f+a*l[le-k])\n",
    "                g.append(j)\n",
    "            wins.append(g)\n",
    "    return [trimm,wins]"
   ]
  },
  {
   "cell_type": "code",
   "execution_count": 25,
   "id": "d01a11fa",
   "metadata": {},
   "outputs": [],
   "source": [
    "def trimwins3():\n",
    "    trimm = []\n",
    "    rows = []\n",
    "    wins = []\n",
    "    with open(\"EURO.csv\",'r') as file:\n",
    "        cs = csv.reader(file)\n",
    "        headers = next(cs)[1:]\n",
    "        for row in cs:\n",
    "            rows.append(row)\n",
    "        for i in [1,3,4]:\n",
    "            l = []\n",
    "            for row in rows:\n",
    "                l.append(float(row[i]))\n",
    "            l.sort()\n",
    "            g = []\n",
    "            for k in np.arange(1,10,1):\n",
    "                le = len(l)\n",
    "                z = le-k\n",
    "                a = k+1\n",
    "                l = l[a:z]\n",
    "                j = 1/(le-2*k)*sum(l)\n",
    "                g.append(j)\n",
    "            trimm.append(g)\n",
    "        for i in [1,3,4]:\n",
    "            l = []\n",
    "            for row in rows:\n",
    "                l.append(float(row[i]))\n",
    "            l.sort()\n",
    "            g = []\n",
    "            for k in np.arange(1,10,1):\n",
    "                le = len(l)\n",
    "                a = k+1\n",
    "                b = k+2\n",
    "                c = le-k-1\n",
    "                f = sum(l[b:c])\n",
    "                j = 1/le*(a*l[k+1]+f+a*l[le-k])\n",
    "                g.append(j)\n",
    "            wins.append(g)\n",
    "    return [trimm,wins]"
   ]
  },
  {
   "cell_type": "code",
   "execution_count": 26,
   "id": "72d2ccc9",
   "metadata": {},
   "outputs": [
    {
     "data": {
      "text/plain": [
       "<matplotlib.collections.PathCollection at 0x26160f10610>"
      ]
     },
     "execution_count": 26,
     "metadata": {},
     "output_type": "execute_result"
    },
    {
     "data": {
      "image/png": "[encoded data removed]",
      "text/plain": [
       "<Figure size 432x288 with 1 Axes>"
      ]
     },
     "metadata": {
      "needs_background": "light"
     },
     "output_type": "display_data"
    }
   ],
   "source": [
    "u = np.arange(1,10,1)\n",
    "fun = trimwins2()\n",
    "plt.scatter(u,fun[0][0]) #X ucinana"
   ]
  },
  {
   "cell_type": "code",
   "execution_count": 27,
   "id": "0d8aa9c9",
   "metadata": {},
   "outputs": [
    {
     "data": {
      "text/plain": [
       "<matplotlib.collections.PathCollection at 0x26160ed5670>"
      ]
     },
     "execution_count": 27,
     "metadata": {},
     "output_type": "execute_result"
    },
    {
     "data": {
      "image/png": "[encoded data removed]",
      "text/plain": [
       "<Figure size 432x288 with 1 Axes>"
      ]
     },
     "metadata": {
      "needs_background": "light"
     },
     "output_type": "display_data"
    }
   ],
   "source": [
    "plt.scatter(u,fun[1][0]) #X winsor"
   ]
  },
  {
   "cell_type": "code",
   "execution_count": 28,
   "id": "97e583c3",
   "metadata": {},
   "outputs": [
    {
     "data": {
      "text/plain": [
       "<matplotlib.collections.PathCollection at 0x26160fd2ee0>"
      ]
     },
     "execution_count": 28,
     "metadata": {},
     "output_type": "execute_result"
    },
    {
     "data": {
      "image/png": "[encoded data removed]",
      "text/plain": [
       "<Figure size 432x288 with 1 Axes>"
      ]
     },
     "metadata": {
      "needs_background": "light"
     },
     "output_type": "display_data"
    }
   ],
   "source": [
    "fun2 = trimwins3()\n",
    "plt.scatter(u,fun2[0][0]) #Y ucinana"
   ]
  },
  {
   "cell_type": "code",
   "execution_count": 27,
   "id": "b334deb4",
   "metadata": {},
   "outputs": [
    {
     "data": {
      "text/plain": [
       "<matplotlib.collections.PathCollection at 0x1644ae61310>"
      ]
     },
     "execution_count": 27,
     "metadata": {},
     "output_type": "execute_result"
    },
    {
     "data": {
      "image/png": "[encoded data removed]",
      "text/plain": [
       "<Figure size 432x288 with 1 Axes>"
      ]
     },
     "metadata": {
      "needs_background": "light"
     },
     "output_type": "display_data"
    }
   ],
   "source": [
    "plt.scatter(u,fun2[1][0]) #Y winsor"
   ]
  },
  {
   "cell_type": "code",
   "execution_count": null,
   "id": "48df81f8",
   "metadata": {},
   "outputs": [],
   "source": []
  },
  {
   "cell_type": "code",
   "execution_count": null,
   "id": "184c6fab",
   "metadata": {},
   "outputs": [],
   "source": []
  },
  {
   "cell_type": "code",
   "execution_count": null,
   "id": "5aaa3349",
   "metadata": {},
   "outputs": [],
   "source": []
  },
  {
   "cell_type": "code",
   "execution_count": null,
   "id": "1e9f7e2d",
   "metadata": {},
   "outputs": [],
   "source": []
  },
  {
   "cell_type": "code",
   "execution_count": null,
   "id": "dbac0b95",
   "metadata": {},
   "outputs": [],
   "source": []
  },
  {
   "cell_type": "code",
   "execution_count": null,
   "id": "0429c49e",
   "metadata": {},
   "outputs": [],
   "source": []
  },
  {
   "cell_type": "code",
   "execution_count": null,
   "id": "3c7e30e3",
   "metadata": {},
   "outputs": [],
   "source": []
  },
  {
   "cell_type": "code",
   "execution_count": null,
   "id": "b0ff7cae",
   "metadata": {},
   "outputs": [],
   "source": []
  },
  {
   "cell_type": "code",
   "execution_count": null,
   "id": "92f8e41a",
   "metadata": {},
   "outputs": [],
   "source": []
  }
 ],
 "metadata": {
  "kernelspec": {
   "display_name": "Python 3 (ipykernel)",
   "language": "python",
   "name": "python3"
  },
  "language_info": {
   "codemirror_mode": {
    "name": "ipython",
    "version": 3
   },
   "file_extension": ".py",
   "mimetype": "text/x-python",
   "name": "python",
   "nbconvert_exporter": "python",
   "pygments_lexer": "ipython3",
   "version": "3.9.7"
  }
 },
 "nbformat": 4,
 "nbformat_minor": 5
}
